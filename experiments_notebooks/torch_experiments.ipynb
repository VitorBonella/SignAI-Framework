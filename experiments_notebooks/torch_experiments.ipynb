{
 "cells": [
  {
   "cell_type": "code",
   "execution_count": 1,
   "id": "5e24bb4b",
   "metadata": {},
   "outputs": [
    {
     "name": "stderr",
     "output_type": "stream",
     "text": [
      "/home/vbbonella/mestrado/tese-mestrado/.venv/lib/python3.10/site-packages/tqdm/auto.py:21: TqdmWarning: IProgress not found. Please update jupyter and ipywidgets. See https://ipywidgets.readthedocs.io/en/stable/user_install.html\n",
      "  from .autonotebook import tqdm as notebook_tqdm\n",
      "[   INFO   ] MusicExtractorSVM: no classifier models were configured by default\n"
     ]
    }
   ],
   "source": [
    "from vibdata.deep.DeepDataset import convertDataset\n",
    "import vibdata.raw as raw_datasets\n",
    "from vibdata.deep.signal.transforms import Sequential,SplitSampleRate,FeatureExtractor,FilterByValue\n",
    "\n",
    "dataset_name = \"CWRU\"\n",
    "\n",
    "# Get raw root_dir\n",
    "raw_root_dir = \"../data/raw_data/cwru\"\n",
    "raw_dataset = getattr(raw_datasets, dataset_name + \"_raw\")(raw_root_dir, download=True)"
   ]
  },
  {
   "cell_type": "code",
   "execution_count": 2,
   "id": "f2b509cf",
   "metadata": {},
   "outputs": [
    {
     "name": "stdout",
     "output_type": "stream",
     "text": [
      "Sequential(transforms=[SplitSampleRate()])\n"
     ]
    }
   ],
   "source": [
    "import numpy as np\n",
    "from scipy.stats import skew\n",
    "\n",
    "\n",
    "transforms = Sequential(\n",
    "    [   \n",
    "        SplitSampleRate(),\n",
    "    ]\n",
    ")\n",
    "print(transforms)\n"
   ]
  },
  {
   "cell_type": "code",
   "execution_count": 3,
   "id": "981112aa",
   "metadata": {},
   "outputs": [],
   "source": [
    "deep_root_dir = \"../data/deep_data/1dcnn\"\n",
    "deep_dataset = convertDataset(raw_dataset, filter=FilterByValue(on_field=\"sample_rate\", values=12000) ,transforms=transforms, dir_path=deep_root_dir, batch_size=32)"
   ]
  },
  {
   "cell_type": "code",
   "execution_count": 4,
   "id": "150c917f",
   "metadata": {},
   "outputs": [
    {
     "name": "stdout",
     "output_type": "stream",
     "text": [
      "2520\n"
     ]
    }
   ],
   "source": [
    "print(len(deep_dataset))"
   ]
  },
  {
   "cell_type": "code",
   "execution_count": 1,
   "id": "3786f2c3",
   "metadata": {},
   "outputs": [],
   "source": [
    "import sys\n",
    "sys.path.append('../')  "
   ]
  },
  {
   "cell_type": "code",
   "execution_count": 6,
   "id": "80271cee",
   "metadata": {},
   "outputs": [],
   "source": [
    "import os\n",
    "\n",
    "import numpy as np\n",
    "import numpy.typing as npt\n",
    "from tqdm import tqdm\n",
    "from vibdata.deep.DeepDataset import DeepDataset\n",
    "from vibdata.deep.signal.core import SignalSample\n",
    "from src.utils.group_dataset import GroupDataset\n",
    "from src.utils.fold_idx_generator import FoldIdxGenerator\n",
    "\n",
    "class GroupCWRULoad(GroupDataset):\n",
    "    @staticmethod\n",
    "    def _assigne_group(sample: SignalSample) -> int:\n",
    "        return sample[\"metainfo\"][\"load\"]"
   ]
  },
  {
   "cell_type": "code",
   "execution_count": 7,
   "id": "9a701abe",
   "metadata": {},
   "outputs": [
    {
     "name": "stdout",
     "output_type": "stream",
     "text": [
      "Loading group dataset from: ../data/grouping/groups_CustomGroupCWRU.npy\n"
     ]
    },
    {
     "data": {
      "text/plain": [
       "array([0., 0., 0., ..., 3., 3., 3.])"
      ]
     },
     "execution_count": 7,
     "metadata": {},
     "output_type": "execute_result"
    }
   ],
   "source": [
    "folds_singleround = FoldIdxGenerator(deep_dataset, GroupCWRULoad , dataset_name=\"CWRU\").generate_folds()\n",
    "folds_singleround"
   ]
  },
  {
   "cell_type": "code",
   "execution_count": 8,
   "id": "9baa5722",
   "metadata": {},
   "outputs": [],
   "source": [
    "# models/cnn1d.py\n",
    "import torch\n",
    "import torch.nn as nn\n",
    "import torch.nn.functional as F\n",
    "\n",
    "\n",
    "class CNN1D(nn.Module):\n",
    "    def __init__(self, input_length: int, num_classes: int):\n",
    "        \"\"\"\n",
    "        Simple 1D CNN for vibration signal classification.\n",
    "        \n",
    "        Args:\n",
    "            input_length: length of the input signal\n",
    "            num_classes: number of output classes\n",
    "        \"\"\"\n",
    "        super(CNN1D, self).__init__()\n",
    "\n",
    "        self.conv1 = nn.Conv1d(in_channels=1, out_channels=16, kernel_size=7, padding=3)\n",
    "        self.bn1 = nn.BatchNorm1d(16)\n",
    "        self.pool1 = nn.MaxPool1d(2)\n",
    "\n",
    "        self.conv2 = nn.Conv1d(16, 32, kernel_size=5, padding=2)\n",
    "        self.bn2 = nn.BatchNorm1d(32)\n",
    "        self.pool2 = nn.MaxPool1d(2)\n",
    "\n",
    "        self.conv3 = nn.Conv1d(32, 64, kernel_size=3, padding=1)\n",
    "        self.bn3 = nn.BatchNorm1d(64)\n",
    "        self.pool3 = nn.AdaptiveMaxPool1d(16)  # reduce dynamically to fixed size\n",
    "\n",
    "        # compute flattened size\n",
    "        example_input = torch.zeros(1, 1, input_length)  # [B, C, L]\n",
    "        with torch.no_grad():\n",
    "            x = self.pool1(F.relu(self.bn1(self.conv1(example_input))))\n",
    "            x = self.pool2(F.relu(self.bn2(self.conv2(x))))\n",
    "            x = self.pool3(F.relu(self.bn3(self.conv3(x))))\n",
    "            flattened_size = x.shape[1] * x.shape[2]\n",
    "\n",
    "        self.fc1 = nn.Linear(flattened_size, 128)\n",
    "        self.dropout = nn.Dropout(0.3)\n",
    "        self.fc2 = nn.Linear(128, num_classes)\n",
    "\n",
    "    def forward(self, x):\n",
    "        # x shape: [B, L] or [B, 1, L]\n",
    "        if x.ndim == 2:\n",
    "            x = x.unsqueeze(1)  # add channel dim\n",
    "\n",
    "        x = self.pool1(F.relu(self.bn1(self.conv1(x))))\n",
    "        x = self.pool2(F.relu(self.bn2(self.conv2(x))))\n",
    "        x = self.pool3(F.relu(self.bn3(self.conv3(x))))\n",
    "\n",
    "        x = torch.flatten(x, 1)\n",
    "        x = F.relu(self.fc1(x))\n",
    "        x = self.dropout(x)\n",
    "        x = self.fc2(x)\n",
    "        return x\n"
   ]
  },
  {
   "cell_type": "code",
   "execution_count": 9,
   "id": "ecee0e1f",
   "metadata": {},
   "outputs": [
    {
     "name": "stdout",
     "output_type": "stream",
     "text": [
      "Using 2 GPUs\n",
      "Changed working directory to: results_torch/vibration_analysis_results_cnn1d_vibration_20251007_150941/\n",
      "\n",
      "=== Outer Fold 1/4 ===\n",
      "[Fold 0] Epoch 1/100 Train Loss: 1.5913, Val Loss: 1.2688, Time: 1.08s\n",
      "[Fold 0] Epoch 10/100 Train Loss: 0.5086, Val Loss: 0.7017, Time: 0.42s\n",
      "[Fold 0] Epoch 20/100 Train Loss: 0.2394, Val Loss: 0.1997, Time: 0.42s\n",
      "[Fold 0] Epoch 30/100 Train Loss: 0.1271, Val Loss: 0.0763, Time: 0.42s\n",
      "[Fold 0] Epoch 40/100 Train Loss: 0.1231, Val Loss: 0.1103, Time: 0.42s\n",
      "[Fold 0] Epoch 50/100 Train Loss: 0.0881, Val Loss: 0.0543, Time: 0.42s\n",
      "[Fold 0] Epoch 60/100 Train Loss: 0.0732, Val Loss: 0.0185, Time: 0.43s\n",
      "[Fold 0] Epoch 70/100 Train Loss: 0.0978, Val Loss: 0.2373, Time: 0.42s\n",
      "[Fold 0] Epoch 80/100 Train Loss: 0.0449, Val Loss: 0.0148, Time: 0.42s\n",
      "[Fold 0] Epoch 90/100 Train Loss: 0.0446, Val Loss: 0.0130, Time: 0.42s\n",
      "[Fold 0] Epoch 100/100 Train Loss: 0.0490, Val Loss: 0.1048, Time: 0.42s\n",
      "Saved model for Fold 0 at results_torch/vibration_analysis_results_cnn1d_vibration_20251007_150941/model_fold0.pt\n",
      "  Test - Accuracy: 0.7267, F1: 0.7291\n",
      "\n",
      "=== Outer Fold 2/4 ===\n",
      "[Fold 1] Epoch 1/100 Train Loss: 1.4436, Val Loss: 1.2607, Time: 0.42s\n",
      "[Fold 1] Epoch 10/100 Train Loss: 0.5119, Val Loss: 0.4072, Time: 0.42s\n",
      "[Fold 1] Epoch 20/100 Train Loss: 0.2840, Val Loss: 0.2166, Time: 0.42s\n",
      "[Fold 1] Epoch 30/100 Train Loss: 0.2288, Val Loss: 0.1992, Time: 0.42s\n",
      "[Fold 1] Epoch 40/100 Train Loss: 0.2015, Val Loss: 0.0989, Time: 0.42s\n",
      "[Fold 1] Epoch 50/100 Train Loss: 0.1082, Val Loss: 0.0723, Time: 0.42s\n",
      "[Fold 1] Epoch 60/100 Train Loss: 0.1076, Val Loss: 0.0602, Time: 0.42s\n",
      "[Fold 1] Epoch 70/100 Train Loss: 0.0851, Val Loss: 0.0500, Time: 0.42s\n",
      "[Fold 1] Epoch 80/100 Train Loss: 0.0578, Val Loss: 0.0438, Time: 0.42s\n",
      "[Fold 1] Epoch 90/100 Train Loss: 0.0817, Val Loss: 0.0386, Time: 0.42s\n",
      "[Fold 1] Epoch 100/100 Train Loss: 0.0405, Val Loss: 0.0334, Time: 0.42s\n",
      "Saved model for Fold 1 at results_torch/vibration_analysis_results_cnn1d_vibration_20251007_150941/model_fold1.pt\n",
      "  Test - Accuracy: 0.9688, F1: 0.9687\n",
      "\n",
      "=== Outer Fold 3/4 ===\n",
      "[Fold 2] Epoch 1/100 Train Loss: 1.4667, Val Loss: 1.2468, Time: 0.42s\n",
      "[Fold 2] Epoch 10/100 Train Loss: 0.5561, Val Loss: 0.5315, Time: 0.42s\n",
      "[Fold 2] Epoch 20/100 Train Loss: 0.3432, Val Loss: 0.3482, Time: 0.42s\n",
      "[Fold 2] Epoch 30/100 Train Loss: 0.1860, Val Loss: 0.2879, Time: 0.42s\n",
      "[Fold 2] Epoch 40/100 Train Loss: 0.1585, Val Loss: 0.1197, Time: 0.42s\n",
      "[Fold 2] Epoch 50/100 Train Loss: 0.1648, Val Loss: 0.2913, Time: 0.42s\n",
      "[Fold 2] Epoch 60/100 Train Loss: 0.0752, Val Loss: 0.0656, Time: 0.42s\n",
      "[Fold 2] Epoch 70/100 Train Loss: 0.0803, Val Loss: 0.1833, Time: 0.42s\n",
      "[Fold 2] Epoch 80/100 Train Loss: 0.0730, Val Loss: 0.0655, Time: 0.42s\n",
      "[Fold 2] Epoch 90/100 Train Loss: 0.0887, Val Loss: 0.0771, Time: 0.42s\n",
      "[Fold 2] Epoch 100/100 Train Loss: 0.2293, Val Loss: 0.2207, Time: 0.42s\n",
      "Saved model for Fold 2 at results_torch/vibration_analysis_results_cnn1d_vibration_20251007_150941/model_fold2.pt\n",
      "  Test - Accuracy: 0.9328, F1: 0.9327\n",
      "\n",
      "=== Outer Fold 4/4 ===\n",
      "[Fold 3] Epoch 1/100 Train Loss: 1.4456, Val Loss: 1.2939, Time: 0.42s\n",
      "[Fold 3] Epoch 10/100 Train Loss: 0.6013, Val Loss: 0.5093, Time: 0.42s\n",
      "[Fold 3] Epoch 20/100 Train Loss: 0.2996, Val Loss: 0.2549, Time: 0.42s\n",
      "[Fold 3] Epoch 30/100 Train Loss: 0.1761, Val Loss: 0.1934, Time: 0.42s\n",
      "[Fold 3] Epoch 40/100 Train Loss: 0.1257, Val Loss: 0.1335, Time: 0.42s\n",
      "[Fold 3] Epoch 50/100 Train Loss: 0.0777, Val Loss: 0.1116, Time: 0.42s\n",
      "[Fold 3] Epoch 60/100 Train Loss: 0.0493, Val Loss: 0.0518, Time: 0.42s\n",
      "[Fold 3] Epoch 70/100 Train Loss: 0.0481, Val Loss: 0.0527, Time: 0.42s\n",
      "[Fold 3] Epoch 80/100 Train Loss: 0.0494, Val Loss: 0.0498, Time: 0.42s\n",
      "[Fold 3] Epoch 90/100 Train Loss: 0.1637, Val Loss: 0.1520, Time: 0.42s\n",
      "[Fold 3] Epoch 100/100 Train Loss: 0.0878, Val Loss: 0.0556, Time: 0.42s\n",
      "Saved model for Fold 3 at results_torch/vibration_analysis_results_cnn1d_vibration_20251007_150941/model_fold3.pt\n",
      "  Test - Accuracy: 0.9078, F1: 0.9065\n",
      "\n",
      "=== Final Results ===\n",
      "Mean Accuracy: 0.8840 ± 0.0934\n",
      "Mean F1: 0.8842 ± 0.0922\n"
     ]
    }
   ],
   "source": [
    "from src.experiments.torch_data import TorchExperiment\n",
    "\n",
    "# suppose dataset is already a DeepDataset like before\n",
    "input_length = deep_dataset[0]['signal'][0].shape[-1]\n",
    "num_classes = len(set([s['metainfo']['label'] for s in deep_dataset]))\n",
    "\n",
    "model = CNN1D(input_length=input_length, num_classes=num_classes)\n",
    "\n",
    "exp = TorchExperiment(\n",
    "    name=\"cnn1d_vibration\",\n",
    "    description=\"1D CNN for vibration signals\",\n",
    "    dataset=deep_dataset,\n",
    "    data_fold_idxs=folds_singleround,  # numpy array of fold indices\n",
    "    model=model,\n",
    "    batch_size=64,\n",
    "    lr=1e-3,\n",
    "    num_epochs=100\n",
    ")\n",
    "\n",
    "results = exp.run()"
   ]
  },
  {
   "cell_type": "code",
   "execution_count": 2,
   "id": "c3849936",
   "metadata": {},
   "outputs": [
    {
     "name": "stderr",
     "output_type": "stream",
     "text": [
      "[   INFO   ] MusicExtractorSVM: no classifier models were configured by default\n",
      "/home/vbbonella/mestrado/tese-mestrado/.venv/lib/python3.10/site-packages/tqdm/auto.py:21: TqdmWarning: IProgress not found. Please update jupyter and ipywidgets. See https://ipywidgets.readthedocs.io/en/stable/user_install.html\n",
      "  from .autonotebook import tqdm as notebook_tqdm\n"
     ]
    },
    {
     "name": "stdout",
     "output_type": "stream",
     "text": [
      "======================================================================\n",
      "EXPERIMENTO: cnn1d_vibration\n",
      "DESCRIÇÃO: 1D CNN for vibration signals\n",
      "MODELO: CNN1D\n",
      "QUANTIDADE DE FOLDS: 4\n",
      "======================================================================\n",
      "\n",
      "MÉTRICAS GERAIS DO EXPERIMENTO:\n",
      "--------------------------------------------------\n",
      "               Métrica   Valor\n",
      "        Acurácia Média  0.8840\n",
      "Desvio Padrão Acurácia ±0.0934\n",
      "        F1-Score Médio  0.8842\n",
      "Desvio Padrão F1-Score ±0.0922\n",
      "\n",
      "DETALHES POR FOLD:\n",
      "------------------------------------------------------------\n",
      " Fold Acurácia F1-Score Precision Recall\n",
      "    1   0.7267   0.7291    0.7999 0.7267\n",
      "    2   0.9688   0.9687    0.9686 0.9688\n",
      "    3   0.9328   0.9327    0.9444 0.9328\n",
      "    4   0.9078   0.9065    0.9082 0.9078\n"
     ]
    },
    {
     "data": {
      "image/png": "[encoded data removed]",
      "text/plain": [
       "<Figure size 1000x600 with 2 Axes>"
      ]
     },
     "metadata": {},
     "output_type": "display_data"
    },
    {
     "name": "stdout",
     "output_type": "stream",
     "text": [
      "\n",
      "ESTATÍSTICAS DA MATRIZ DE CONFUSÃO:\n",
      "Acurácia Geral: 0.8865\n",
      "Total de Amostras: 2520\n"
     ]
    }
   ],
   "source": [
    "from src.experiments.features_1d import ExperimentResults\n",
    "import pandas as pd\n",
    "\n",
    "# read the json from multiround experiment\n",
    "\n",
    "\n",
    "loaded_results = ExperimentResults.load_json(f\"/home/vbbonella/mestrado/tese-mestrado/experiments_notebooks/results_torch/vibration_analysis_results_cnn1d_vibration_20251007_150941/torch_results_20251007_150941.json\")\n",
    "\n",
    "loaded_results.show_results()"
   ]
  }
 ],
 "metadata": {
  "kernelspec": {
   "display_name": ".venv",
   "language": "python",
   "name": "python3"
  },
  "language_info": {
   "codemirror_mode": {
    "name": "ipython",
    "version": 3
   },
   "file_extension": ".py",
   "mimetype": "text/x-python",
   "name": "python",
   "nbconvert_exporter": "python",
   "pygments_lexer": "ipython3",
   "version": "3.10.12"
  }
 },
 "nbformat": 4,
 "nbformat_minor": 5
}
